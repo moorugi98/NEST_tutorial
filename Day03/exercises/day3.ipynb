{
 "cells": [
  {
   "cell_type": "code",
   "execution_count": 1,
   "metadata": {
    "scrolled": true
   },
   "outputs": [
    {
     "name": "stdout",
     "output_type": "stream",
     "text": [
      "Populating the interactive namespace from numpy and matplotlib\n"
     ]
    }
   ],
   "source": [
    "%pylab inline\n",
    "import nest\n",
    "import numpy as np\n",
    "import matplotlib.pyplot as plot"
   ]
  },
  {
   "cell_type": "code",
   "execution_count": 5,
   "metadata": {},
   "outputs": [],
   "source": [
    "nest.helpdesk()"
   ]
  },
  {
   "cell_type": "code",
   "execution_count": 18,
   "metadata": {},
   "outputs": [],
   "source": [
    "nest.ResetKernel()"
   ]
  },
  {
   "cell_type": "markdown",
   "metadata": {},
   "source": [
    "# Part 3"
   ]
  },
  {
   "cell_type": "code",
   "execution_count": 19,
   "metadata": {},
   "outputs": [],
   "source": [
    "\"\"\" settings\"\"\"\n",
    "nest.SetDefaults(\"stdp_synapse\",{\"tau_plus\": 15.0}) # change the default tau+ value\n",
    "nest.CopyModel(\"stdp_synapse\",\"layer1_stdp_synapse\",{\"Wmax\": 90.0}) # config layer1 synapse"
   ]
  },
  {
   "cell_type": "code",
   "execution_count": 2,
   "metadata": {},
   "outputs": [],
   "source": [
    "\"\"\" create nodes\"\"\"\n",
    "# depression time constant of STDP is set by the neuron, not by the synapse\n",
    "neuron1 = nest.Create(\"iaf_psc_alpha\", params={\"tau_minus\": 30.0})\n",
    "\n",
    "epop1 = nest.Create(\"iaf_psc_alpha\", 10)"
   ]
  },
  {
   "cell_type": "code",
   "execution_count": 3,
   "metadata": {},
   "outputs": [],
   "source": [
    "\"\"\" connect nodes with stochastic synapses\"\"\"\n",
    "alpha_min = 0.1\n",
    "alpha_max = 2.0\n",
    "w_min = 0.5\n",
    "w_max = 5.0\n",
    "delay = 1.0\n",
    "\n",
    "syn_dict = {\"model\": \"stdp_synapse\",\n",
    "            \"alpha\": {\"distribution\": \"uniform\", \"low\": alpha_min, \"high\": alpha_max}, # uniform dist alpha val.\n",
    "            \"weight\": {\"distribution\": \"uniform\", \"low\": w_min, \"high\": w_max}, #uniform dist weights\n",
    "            \"delay\": delay}\n",
    "nest.Connect(epop1, neuron1, \"all_to_all\", syn_dict)"
   ]
  },
  {
   "cell_type": "code",
   "execution_count": 7,
   "metadata": {
    "scrolled": true
   },
   "outputs": [
    {
     "data": {
      "text/plain": [
       "(1, 1, 1, 1, 1, 1, 1, 1, 1, 1)"
      ]
     },
     "execution_count": 7,
     "metadata": {},
     "output_type": "execute_result"
    }
   ],
   "source": [
    "\"\"\" checking connections\"\"\"\n",
    "nest.GetConnections() # return all connections in the whole system\n",
    "nest.GetConnections(target = neuron1) # all connection to neuron 1\n",
    "nest.GetConnections(synapse_model=\"stdp_synapse\") # all connection with certain syn_model\n",
    "conns = nest.GetConnections(epop1, neuron1, \"stdp_synapse\") # mix all\n",
    "nest.GetStatus(conns,\"target\")"
   ]
  },
  {
   "cell_type": "markdown",
   "metadata": {},
   "source": [
    "# Ex 3"
   ]
  },
  {
   "cell_type": "markdown",
   "metadata": {},
   "source": [
    "### 2)"
   ]
  },
  {
   "cell_type": "code",
   "execution_count": 8,
   "metadata": {
    "scrolled": true
   },
   "outputs": [],
   "source": [
    "\"\"\" the original script\"\"\"\n",
    "# params\n",
    "C  = 125\n",
    "CE = int(0.8 * C)\n",
    "CI = int(0.2 * C)\n",
    "rate   = 10.0\n",
    "nu_ext =  5.0\n",
    "\n",
    "g     = -5.0\n",
    "w_exc = 70.0\n",
    "w_inh = g * w_exc\n",
    "alpha = 1.1 # OK WHY\n",
    "\n",
    "# check for addtive and multiplicative rules\n",
    "mus = [0.0, 1.0] #[additive, multiplicative]\n",
    "# mus = np.linspace(0.0,-3.0, 10) # find the critical value\n",
    "weights = []\n",
    "for muindex,mu in enumerate(mus):\n",
    "\n",
    "    nest.ResetKernel()\n",
    "\n",
    "    # create ndoes\n",
    "    neuron = nest.Create(\"iaf_psc_alpha\", 1, {\"tau_minus\": 20.0})\n",
    "\n",
    "    pg_exc = nest.Create(\"poisson_generator\", 1, {\"rate\": rate})\n",
    "    inputs = nest.Create(\"parrot_neuron\",CE)\n",
    "\n",
    "    pg_inh = nest.Create(\"poisson_generator\", 1, {\"rate\": CI * rate})\n",
    "    pg_ext = nest.Create(\"poisson_generator\", 1, {\"rate\": CE * nu_ext})\n",
    "\n",
    "    # settings for the synapse\n",
    "    nest.SetDefaults(\"stdp_synapse\",{\"tau_plus\": 20.0,\n",
    "                                     \"mu_plus\":  mu, # weight dep potent.\n",
    "                                     \"mu_minus\": mu, # weight dep. depr.\n",
    "                                     \"alpha\":    alpha,\n",
    "                                     \"lambda\":   0.1,\n",
    "                                     \"Wmax\":     2.0 * w_exc})\n",
    "\n",
    "    # connect nodes\n",
    "    nest.Connect(pg_exc, inputs, \"all_to_all\", {\"weight\":1.0, \"delay\":1.0,\n",
    "                                                \"model\":\"static_synapse\"})\n",
    "    nest.Connect(pg_inh, neuron, \"all_to_all\", {\"weight\":w_inh, \"delay\":1.0,\n",
    "                                                \"model\":\"static_synapse\"})\n",
    "    nest.Connect(pg_ext, neuron, \"all_to_all\", {\"weight\":w_exc, \"delay\":1.0,\n",
    "                                                \"model\":\"static_synapse\"})\n",
    "    nest.Connect(inputs, neuron, \"all_to_all\", {\"weight\":w_exc, \"delay\":1.0,\n",
    "                                                \"model\":\"stdp_synapse\"}) # STDP\n",
    "    \n",
    "    # simulate\n",
    "    burnin_time = 100000.0\n",
    "    nest.Simulate(burnin_time)\n",
    "    time = 100000.0\n",
    "    recording_step = 1000.0\n",
    "    # record every 1000 ms\n",
    "    for t in np.arange(0.0, time+recording_step, recording_step):\n",
    "        nest.Simulate(recording_step)\n",
    "        conn = nest.GetConnections(inputs)\n",
    "        weights = np.append(weights, nest.GetStatus(conn, \"weight\"))\n",
    "weights_arr = np.reshape(weights, (muindex+1,CE,-1))"
   ]
  },
  {
   "cell_type": "code",
   "execution_count": 9,
   "metadata": {
    "scrolled": false
   },
   "outputs": [
    {
     "data": {
      "text/plain": [
       "<matplotlib.legend.Legend at 0x7fb306104198>"
      ]
     },
     "execution_count": 9,
     "metadata": {},
     "output_type": "execute_result"
    },
    {
     "data": {
      "image/png": "[encoded data removed]",
      "text/plain": [
       "<Figure size 432x288 with 1 Axes>"
      ]
     },
     "metadata": {
      "needs_background": "light"
     },
     "output_type": "display_data"
    }
   ],
   "source": [
    "\"\"\" avg. weight of the STDP over time\"\"\"\n",
    "plt.plot(np.mean(weights_arr[0], axis=0), \"r\", label=\"additive\") # avg over diff connections\n",
    "plt.plot(np.mean(weights_arr[1], axis=0), \"b\", label=\"multiplicative\")\n",
    "plt.legend()"
   ]
  },
  {
   "cell_type": "code",
   "execution_count": 10,
   "metadata": {
    "scrolled": true
   },
   "outputs": [
    {
     "data": {
      "text/plain": [
       "<matplotlib.legend.Legend at 0x7fb336f10da0>"
      ]
     },
     "execution_count": 10,
     "metadata": {},
     "output_type": "execute_result"
    },
    {
     "data": {
      "image/png": "[encoded data removed]",
      "text/plain": [
       "<Figure size 432x288 with 1 Axes>"
      ]
     },
     "metadata": {
      "needs_background": "light"
     },
     "output_type": "display_data"
    }
   ],
   "source": [
    "\"\"\" histogram\"\"\"\n",
    "plt.hist(np.mean(weights_arr[0], axis=0), bins=10, density=True, alpha=0.2, color=\"r\", label=\"add\")\n",
    "plt.hist(np.mean(weights_arr[1], axis=0), bins =10, density=True, alpha=0.2, color=\"b\", label=\"multi\")\n",
    "plt.legend()"
   ]
  },
  {
   "cell_type": "code",
   "execution_count": 33,
   "metadata": {},
   "outputs": [
    {
     "data": {
      "image/png": "[encoded data removed]",
      "text/plain": [
       "<Figure size 432x288 with 1 Axes>"
      ]
     },
     "metadata": {
      "needs_background": "light"
     },
     "output_type": "display_data"
    }
   ],
   "source": [
    "plot_hist = lambda data,index: plt.hist(np.mean(data, axis=0), bins=10, density=True, alpha = (index+1)/11, color=\"r\")\n",
    "\n",
    "for index, data in enumerate(weights_arr):\n",
    "    plot_hist(data,index)"
   ]
  },
  {
   "cell_type": "markdown",
   "metadata": {},
   "source": [
    "### 3)"
   ]
  },
  {
   "cell_type": "code",
   "execution_count": 12,
   "metadata": {
    "scrolled": true
   },
   "outputs": [],
   "source": [
    "\"\"\" synchronous firing\"\"\"\n",
    "# params\n",
    "C  = 125\n",
    "CE = int(0.8 * C)\n",
    "CI = int(0.2 * C)\n",
    "rate   = 10.0\n",
    "rate_stim = 2.0\n",
    "nu_ext =  5.0\n",
    "n_stim = 10\n",
    "\n",
    "g     = -5.0\n",
    "w_exc = 70.0\n",
    "w_inh = g * w_exc\n",
    "alpha = 1.1 \n",
    "\n",
    "burnin_time = float(100000.0)\n",
    "time = float(200000.0)\n",
    "recording_step = float(1000.0)\n",
    "\n",
    "# check for addtive and multiplicative rules\n",
    "mus = [0.0, 1.0] #[additive, multiplicative]\n",
    "# mus = np.linspace(0.1, -5.0, 10) # find the critical value\n",
    "weights = []\n",
    "for munindex,mu in enumerate(mus):\n",
    "\n",
    "    nest.ResetKernel()\n",
    "    \n",
    "    # synapse settings\n",
    "    nest.SetDefaults(\"stdp_synapse\",{\"tau_plus\": 20.0,\n",
    "                                     \"mu_plus\":  mu, # weight dep potent.\n",
    "                                     \"mu_minus\": mu, # weight dep. depr.\n",
    "                                     \"alpha\":    alpha,\n",
    "                                     \"lambda\":   0.1,\n",
    "                                     \"Wmax\":     2.0 * w_exc})\n",
    "    \n",
    "    # background\n",
    "    pg_inh = nest.Create(\"poisson_generator\", 1, {\"rate\": CI * rate})\n",
    "    pg_ext = nest.Create(\"poisson_generator\", 1, {\"rate\": CE * nu_ext})\n",
    "\n",
    "    # target neuron\n",
    "    neuron = nest.Create(\"iaf_psc_alpha\", 1, {\"tau_minus\": 20.0})\n",
    "\n",
    "    # rest of input neurons firing async.\n",
    "    pg_exc = nest.Create(\"poisson_generator\", 1, {\"rate\": rate})\n",
    "    inputs_rest = nest.Create(\"parrot_neuron\", CE-n_stim)\n",
    "    # stim. input neurons\n",
    "    pg_stim_before = nest.Create(\"poisson_generator\", 1, {\"rate\": rate-rate_stim, \"stop\": burnin_time})\n",
    "    inputs_stim_before = nest.Create(\"parrot_neuron\", n_stim) # async firing before stim\n",
    "    pg_stim_after = nest.Create(\"poisson_generator\", 1, {\"rate\": rate_stim, \"start\": burnin_time})\n",
    "    inputs_stim_after = nest.Create(\"parrot_neuron\", n_stim) # sync firing after stim\n",
    "    \n",
    "\n",
    "    # connect nodes\n",
    "    nest.Connect(pg_exc, inputs_rest, \"all_to_all\", {\"weight\":1.0, \"delay\":1.0,\n",
    "                                                \"model\":\"static_synapse\"})\n",
    "    nest.Connect(pg_stim_before, inputs_stim_before, \"all_to_all\", {\"weight\":1.0, \"delay\":1.0,\n",
    "                                                \"model\":\"static_synapse\"})\n",
    "    nest.Connect(pg_stim_after, inputs_stim_after, \"all_to_all\", {\"weight\":1.0, \"delay\":1.0,\n",
    "                                                \"model\":\"static_synapse\"})\n",
    "    \n",
    "    nest.Connect(inputs_rest, neuron, \"all_to_all\", {\"weight\":w_exc, \"delay\":1.0,\n",
    "                                                \"model\":\"stdp_synapse\"})\n",
    "    nest.Connect(inputs_stim_before, neuron, \"all_to_all\", {\"weight\":w_exc, \"delay\":1.0,\n",
    "                                                \"model\":\"stdp_synapse\"}) \n",
    "    nest.Connect(inputs_stim_after, neuron, \"all_to_all\", {\"weight\":w_exc, \"delay\":1.0,\n",
    "                                                \"model\":\"stdp_synapse\"}) # STDP\n",
    "    \n",
    "    \n",
    "    nest.Connect(pg_inh, neuron, \"all_to_all\", {\"weight\":w_inh, \"delay\":1.0,\n",
    "                                                \"model\":\"static_synapse\"})\n",
    "    nest.Connect(pg_ext, neuron, \"all_to_all\", {\"weight\":w_exc, \"delay\":1.0,\n",
    "                                                \"model\":\"static_synapse\"})\n",
    "    \n",
    "\n",
    "    # simulate\n",
    "    \n",
    "    # record every 1000 ms\n",
    "    for t in np.arange(0.0, burnin_time+recording_step, recording_step):\n",
    "        nest.Simulate(recording_step)\n",
    "        conn = nest.GetConnections(inputs_stim_before)\n",
    "        weights = np.append(weights, nest.GetStatus(conn, \"weight\"))\n",
    "    for t in np.arange(burnin_time, burnin_time+time+recording_step, recording_step):\n",
    "        nest.Simulate(recording_step)\n",
    "        conn = nest.GetConnections(inputs_stim_after)\n",
    "        weights = np.append(weights, nest.GetStatus(conn, \"weight\"))\n",
    "weights_arr = np.reshape(weights, (muindex+1,n_stim,-1))"
   ]
  },
  {
   "cell_type": "code",
   "execution_count": 17,
   "metadata": {},
   "outputs": [
    {
     "data": {
      "text/plain": [
       "(402,)"
      ]
     },
     "execution_count": 17,
     "metadata": {},
     "output_type": "execute_result"
    }
   ],
   "source": [
    "np.mean(weights_arr[0], axis=0).shape"
   ]
  },
  {
   "cell_type": "code",
   "execution_count": 15,
   "metadata": {
    "scrolled": true
   },
   "outputs": [
    {
     "data": {
      "text/plain": [
       "<matplotlib.legend.Legend at 0x7fb305ec46a0>"
      ]
     },
     "execution_count": 15,
     "metadata": {},
     "output_type": "execute_result"
    },
    {
     "data": {
      "image/png": "[encoded data removed]",
      "text/plain": [
       "<Figure size 432x288 with 1 Axes>"
      ]
     },
     "metadata": {
      "needs_background": "light"
     },
     "output_type": "display_data"
    }
   ],
   "source": [
    "\"\"\" avg. weight of the STDP over time\"\"\"\n",
    "plt.plot(np.mean(weights_arr[0], axis=0), \"r.\", label=\"additive\") # avg over diff connections\n",
    "plt.plot(np.mean(weights_arr[1], axis=0), \"b.\", label=\"multiplicative\")\n",
    "plt.legend()"
   ]
  },
  {
   "cell_type": "code",
   "execution_count": 21,
   "metadata": {
    "scrolled": true
   },
   "outputs": [
    {
     "data": {
      "text/plain": [
       "<matplotlib.legend.Legend at 0x7fb3050a2e10>"
      ]
     },
     "execution_count": 21,
     "metadata": {},
     "output_type": "execute_result"
    },
    {
     "data": {
      "image/png": "[encoded data removed]",
      "text/plain": [
       "<Figure size 432x288 with 4 Axes>"
      ]
     },
     "metadata": {
      "needs_background": "light"
     },
     "output_type": "display_data"
    }
   ],
   "source": [
    "\"\"\" histogram\"\"\"\n",
    "fig, axes = plt.subplots(nrows=2, ncols=2)\n",
    "axes[0,0].hist(np.mean(weights_arr[0], axis=0)[:100], bins=10, density=True, alpha=0.2, color=\"r\", label=\"add_async\")\n",
    "axes[0,1].hist(np.mean(weights_arr[1], axis=0)[:100], bins =10, density=True, alpha=0.2, color=\"b\", label=\"multi_async\")\n",
    "axes[1,0].hist(np.mean(weights_arr[0], axis=0)[100:], bins =10, density=True, alpha=0.2, color=\"r\", label=\"add_sync\")\n",
    "axes[1,1].hist(np.mean(weights_arr[1], axis=0)[100:], bins =10, density=True, alpha=0.2, color=\"b\", label=\"multi_sync\")\n",
    "plt.legend()"
   ]
  }
 ],
 "metadata": {
  "kernelspec": {
   "display_name": "nestnew",
   "language": "python",
   "name": "nestnew"
  },
  "language_info": {
   "codemirror_mode": {
    "name": "ipython",
    "version": 3
   },
   "file_extension": ".py",
   "mimetype": "text/x-python",
   "name": "python",
   "nbconvert_exporter": "python",
   "pygments_lexer": "ipython3",
   "version": "3.6.2"
  }
 },
 "nbformat": 4,
 "nbformat_minor": 2
}
